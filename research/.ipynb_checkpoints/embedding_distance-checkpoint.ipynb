{
 "cells": [
  {
   "cell_type": "code",
   "execution_count": 1,
   "id": "dac03ce5-29be-4dc4-9a7a-ff0d4efba734",
   "metadata": {},
   "outputs": [],
   "source": [
    "import os"
   ]
  },
  {
   "cell_type": "code",
   "execution_count": 2,
   "id": "1be91687-8953-41d7-b982-41ec93d783ae",
   "metadata": {},
   "outputs": [],
   "source": [
    "os.environ['SPOTIPY_CLIENT_ID']='f30051ca497649079b904ef7476af7d2'\n",
    "os.environ['SPOTIPY_CLIENT_SECRET']='57693afba78047d8a1b658bca978f129'\n",
    "os.environ['SPOTIPY_REDIRECT_URI']='https://www.jvm16.xyz/#/english'"
   ]
  },
  {
   "cell_type": "code",
   "execution_count": 3,
   "id": "bb48662a-d283-41ec-b145-01b9be1ae210",
   "metadata": {},
   "outputs": [],
   "source": [
    "import spotipy\n",
    "from spotipy.oauth2 import SpotifyOAuth\n",
    "\n",
    "scope = \"user-library-read\"\n",
    "\n",
    "sp = spotipy.Spotify(auth_manager=SpotifyOAuth(scope=scope))"
   ]
  },
  {
   "cell_type": "code",
   "execution_count": 20,
   "id": "3b3c00d4-1663-4f2f-a782-c76634ef8e15",
   "metadata": {},
   "outputs": [],
   "source": [
    "import urllib.request\n",
    "\n",
    "def download_preview(song_title, path):\n",
    "    extension = '.mp3'\n",
    "    \n",
    "    if extension not in path:\n",
    "        path = f'{path}{extension}'\n",
    "    track = sp.search(song_title, limit=1, offset=0, type='track', market=None)\n",
    "    \n",
    "    tracks = track['tracks']\n",
    "\n",
    "    # print(tracks['items'])\n",
    "    \n",
    "    preview_url = [item['preview_url'] for item in tracks['items'] if item['preview_url'] is not None]\n",
    "\n",
    "    if len(preview_url) > 0:\n",
    "        preview_url = preview_url[0]\n",
    "    else:        \n",
    "        print('no preview url')\n",
    "        preview_url = None\n",
    "        \n",
    "    if preview_url is not None:\n",
    "        urllib.request.urlretrieve(preview_url, path)\n",
    "\n",
    "        return path\n",
    "    else:\n",
    "        return None\n",
    "\n",
    "    "
   ]
  },
  {
   "cell_type": "code",
   "execution_count": 5,
   "id": "5bd8c59d-ce66-4a4d-9a2a-d0f7227ea09d",
   "metadata": {},
   "outputs": [],
   "source": [
    "#download_preview('cayetano carolina durante', './cd_cayetano.mp3')"
   ]
  },
  {
   "cell_type": "code",
   "execution_count": 6,
   "id": "d8d2708a-d5a9-4c78-be5c-e7a13c3bdc3a",
   "metadata": {},
   "outputs": [],
   "source": [
    "#download_preview('el himno titular carolina durante', './cd_himno.mp3')"
   ]
  },
  {
   "cell_type": "code",
   "execution_count": null,
   "id": "58ede5d5-bbea-4e9b-b51e-54805b616392",
   "metadata": {},
   "outputs": [],
   "source": []
  },
  {
   "cell_type": "code",
   "execution_count": 7,
   "id": "2734aa7b-406f-4f97-8241-0121c6171ed9",
   "metadata": {},
   "outputs": [],
   "source": [
    "#download_preview('got you amyl and the sniffers', './ats_got_you.mp3')"
   ]
  },
  {
   "cell_type": "code",
   "execution_count": 8,
   "id": "9885b9b3-f540-4be3-b19d-6bf06e34af9d",
   "metadata": {},
   "outputs": [],
   "source": [
    "#download_preview('hertz amyl and the sniffers', './ats_hertz.mp3')"
   ]
  },
  {
   "cell_type": "code",
   "execution_count": null,
   "id": "f3dbc220-0c31-42b4-8fa7-ac7fe8ba88d5",
   "metadata": {},
   "outputs": [],
   "source": []
  },
  {
   "cell_type": "code",
   "execution_count": null,
   "id": "18834e82-d4c5-4bbd-b3ba-9f59b8209acc",
   "metadata": {},
   "outputs": [],
   "source": []
  },
  {
   "cell_type": "code",
   "execution_count": 9,
   "id": "cb0403f9-cf48-482a-8d23-cb75cf6f7208",
   "metadata": {},
   "outputs": [
    {
     "data": {
      "text/plain": [
       "'./ts_big_mouth.mp3'"
      ]
     },
     "execution_count": 9,
     "metadata": {},
     "output_type": "execute_result"
    }
   ],
   "source": [
    "# download_preview('big mouth strikes again the smiths', './ts_big_mouth.mp3')"
   ]
  },
  {
   "cell_type": "code",
   "execution_count": 10,
   "id": "7d82fcf4-15ef-4938-84b2-1e4348d35cad",
   "metadata": {},
   "outputs": [
    {
     "data": {
      "text/plain": [
       "'./ts_light.mp3'"
      ]
     },
     "execution_count": 10,
     "metadata": {},
     "output_type": "execute_result"
    }
   ],
   "source": [
    "# download_preview('there is a light that never goes out the smiths', './ts_light.mp3')"
   ]
  },
  {
   "cell_type": "code",
   "execution_count": null,
   "id": "b1f6a4b2-b038-45da-a7f4-ae6f6be20f39",
   "metadata": {},
   "outputs": [],
   "source": []
  },
  {
   "cell_type": "code",
   "execution_count": null,
   "id": "1e052bd7-a4bf-461c-ac42-430c1d032f98",
   "metadata": {},
   "outputs": [],
   "source": []
  },
  {
   "cell_type": "code",
   "execution_count": 11,
   "id": "70ff6222-82f9-42cb-9a4d-3b1d3a434781",
   "metadata": {},
   "outputs": [
    {
     "data": {
      "text/plain": [
       "'./th_bogus.mp3'"
      ]
     },
     "execution_count": 11,
     "metadata": {},
     "output_type": "execute_result"
    }
   ],
   "source": [
    "# download_preview('bogus operandi the hives', './th_bogus.mp3')"
   ]
  },
  {
   "cell_type": "code",
   "execution_count": 12,
   "id": "1a5faf97-97a4-41f8-bf9c-d18fb19664cc",
   "metadata": {},
   "outputs": [
    {
     "data": {
      "text/plain": [
       "'./th_comon.mp3'"
      ]
     },
     "execution_count": 12,
     "metadata": {},
     "output_type": "execute_result"
    }
   ],
   "source": [
    "# download_preview('come on the hives', './th_comon.mp3')"
   ]
  },
  {
   "cell_type": "code",
   "execution_count": null,
   "id": "c079e25b-33ce-409e-8120-49a22792e118",
   "metadata": {},
   "outputs": [],
   "source": []
  },
  {
   "cell_type": "code",
   "execution_count": null,
   "id": "a7ceb1ef-5034-48ee-a631-3d71f9ca0a60",
   "metadata": {},
   "outputs": [],
   "source": []
  },
  {
   "cell_type": "code",
   "execution_count": 21,
   "id": "4b2fdbea-3b1a-49c6-812e-f57a9635a2e8",
   "metadata": {},
   "outputs": [
    {
     "data": {
      "text/plain": [
       "'./jf_thunder.mp3'"
      ]
     },
     "execution_count": 21,
     "metadata": {},
     "output_type": "execute_result"
    }
   ],
   "source": [
    "# download_preview('thunder island jay ferguson', './jf_thunder.mp3')"
   ]
  },
  {
   "cell_type": "code",
   "execution_count": null,
   "id": "a6d5dcc9-c427-4304-8912-1f4ac16e3690",
   "metadata": {},
   "outputs": [],
   "source": []
  },
  {
   "cell_type": "code",
   "execution_count": null,
   "id": "5c361c62-4033-4b30-b352-10347583b90d",
   "metadata": {},
   "outputs": [],
   "source": []
  },
  {
   "cell_type": "code",
   "execution_count": 14,
   "id": "5c27e160-2b67-485f-af44-2c2f72ec2341",
   "metadata": {},
   "outputs": [
    {
     "name": "stdout",
     "output_type": "stream",
     "text": [
      "Collecting torch\n",
      "  Using cached torch-2.3.1-cp310-none-macosx_11_0_arm64.whl.metadata (26 kB)\n",
      "Collecting torchaudio\n",
      "  Using cached torchaudio-2.3.1-cp310-cp310-macosx_11_0_arm64.whl.metadata (6.4 kB)\n",
      "Requirement already satisfied: filelock in /Users/jose/.pyenv/versions/3.10.13/lib/python3.10/site-packages (from torch) (3.14.0)\n",
      "Requirement already satisfied: typing-extensions>=4.8.0 in /Users/jose/.pyenv/versions/3.10.13/lib/python3.10/site-packages (from torch) (4.12.1)\n",
      "Requirement already satisfied: sympy in /Users/jose/.pyenv/versions/3.10.13/lib/python3.10/site-packages (from torch) (1.12.1)\n",
      "Requirement already satisfied: networkx in /Users/jose/.pyenv/versions/3.10.13/lib/python3.10/site-packages (from torch) (3.3)\n",
      "Requirement already satisfied: jinja2 in /Users/jose/.pyenv/versions/3.10.13/lib/python3.10/site-packages (from torch) (3.1.4)\n",
      "Requirement already satisfied: fsspec in /Users/jose/.pyenv/versions/3.10.13/lib/python3.10/site-packages (from torch) (2024.3.1)\n",
      "Requirement already satisfied: MarkupSafe>=2.0 in /Users/jose/.pyenv/versions/3.10.13/lib/python3.10/site-packages (from jinja2->torch) (2.1.5)\n",
      "Requirement already satisfied: mpmath<1.4.0,>=1.1.0 in /Users/jose/.pyenv/versions/3.10.13/lib/python3.10/site-packages (from sympy->torch) (1.3.0)\n",
      "Using cached torch-2.3.1-cp310-none-macosx_11_0_arm64.whl (61.0 MB)\n",
      "Using cached torchaudio-2.3.1-cp310-cp310-macosx_11_0_arm64.whl (1.8 MB)\n",
      "Installing collected packages: torch, torchaudio\n",
      "Successfully installed torch-2.3.1 torchaudio-2.3.1\n"
     ]
    }
   ],
   "source": [
    "#!pip3.10 install torch torchaudio"
   ]
  },
  {
   "cell_type": "code",
   "execution_count": 11,
   "id": "4beb8333-1e2b-4a9b-afae-4f6ea9259ea0",
   "metadata": {},
   "outputs": [],
   "source": [
    "#!pip install transformers datasets librosa soundfile"
   ]
  },
  {
   "cell_type": "code",
   "execution_count": 22,
   "id": "a125a421-e1ff-43f5-b5b7-90d8255eb441",
   "metadata": {},
   "outputs": [],
   "source": [
    "import torch\n",
    "\n",
    "torch.set_default_device(\"cpu\")\n",
    "\n",
    "cpu_device = torch.device(\"cpu\")"
   ]
  },
  {
   "cell_type": "code",
   "execution_count": 23,
   "id": "d51f22e8-e7b9-4130-8d5b-caf33957a1dd",
   "metadata": {
    "scrolled": true
   },
   "outputs": [
    {
     "name": "stderr",
     "output_type": "stream",
     "text": [
      "/Users/jose/.pyenv/versions/3.10.13/lib/python3.10/site-packages/tqdm/auto.py:21: TqdmWarning: IProgress not found. Please update jupyter and ipywidgets. See https://ipywidgets.readthedocs.io/en/stable/user_install.html\n",
      "  from .autonotebook import tqdm as notebook_tqdm\n"
     ]
    }
   ],
   "source": [
    "# Step 2: Import necessary libraries\n",
    "import librosa\n",
    "import numpy as np\n",
    "from transformers import ClapModel, ClapProcessor\n",
    "\n",
    "# Step 3: Load your MP3 file and convert it to a waveform array\n",
    "def load_audio_file(file_path, target_sr=48000):\n",
    "    # Load the audio file with librosa\n",
    "    waveform, sr = librosa.load(file_path, sr=None)\n",
    "    # Resample to target sample rate if needed\n",
    "    if sr != target_sr:\n",
    "        waveform = librosa.resample(waveform, orig_sr=sr, target_sr=target_sr)\n",
    "    return waveform, target_sr\n",
    "\n",
    "\n",
    "def get_preview_embeddings(audio_file_path):\n",
    "    # Load the audio file\n",
    "    audio_waveform, sample_rate = load_audio_file(audio_file_path)\n",
    "    \n",
    "    # Ensure the waveform is a numpy array\n",
    "    audio_waveform = np.array(audio_waveform)\n",
    "    \n",
    "    # Step 4: Load the model and processor\n",
    "    model = ClapModel.from_pretrained(\"laion/larger_clap_music\").to(cpu_device)\n",
    "    processor = ClapProcessor.from_pretrained(\"laion/larger_clap_music\")\n",
    "    \n",
    "    # Step 5: Process the waveform with the ClapProcessor\n",
    "    inputs = processor(audios=audio_waveform, sampling_rate=sample_rate, return_tensors=\"pt\").to(cpu_device)\n",
    "    \n",
    "    # Step 6: Get audio features using the model\n",
    "    audio_embed_my_heart_will_go_on = model.get_audio_features(**inputs)\n",
    "\n",
    "    return audio_embed_my_heart_will_go_on\n"
   ]
  },
  {
   "cell_type": "code",
   "execution_count": 24,
   "id": "c1a72230-84a4-499e-accd-698074a4892a",
   "metadata": {
    "scrolled": true
   },
   "outputs": [],
   "source": [
    "audio_embed_my_heart_will_go_on = get_preview_embeddings('./test.mp3').detach().numpy()"
   ]
  },
  {
   "cell_type": "code",
   "execution_count": 25,
   "id": "16690c4a-1a87-4e98-a79e-e2f674824541",
   "metadata": {},
   "outputs": [],
   "source": [
    "audio_embed_cayetano = get_preview_embeddings('./cd_cayetano.mp3').detach().numpy()"
   ]
  },
  {
   "cell_type": "code",
   "execution_count": 26,
   "id": "ab9ba432-c89f-461e-af51-bfd7f0b0f0b9",
   "metadata": {},
   "outputs": [],
   "source": [
    "audio_embed_himno = get_preview_embeddings('./cd_himno.mp3').detach().numpy()"
   ]
  },
  {
   "cell_type": "code",
   "execution_count": 27,
   "id": "30439bf2-f5fd-42f6-a361-29a3306ef407",
   "metadata": {},
   "outputs": [],
   "source": [
    "audio_embed_gotyou = get_preview_embeddings('./ats_got_you.mp3').detach().numpy()"
   ]
  },
  {
   "cell_type": "code",
   "execution_count": 85,
   "id": "0d659fb1-3d04-4fc3-872a-2a82f53e46aa",
   "metadata": {},
   "outputs": [],
   "source": [
    "audio_embed_hertz = get_preview_embeddings('./ats_hertz.mp3').detach().numpy()"
   ]
  },
  {
   "cell_type": "code",
   "execution_count": 28,
   "id": "3d5dcfe3-dae8-47f1-aa0a-3a075aa911bc",
   "metadata": {},
   "outputs": [],
   "source": [
    "audio_embed_ts_big_mouth = get_preview_embeddings('./ts_big_mouth.mp3').detach().numpy()"
   ]
  },
  {
   "cell_type": "code",
   "execution_count": 29,
   "id": "184fea8b-6664-4621-83e9-07f19c733f20",
   "metadata": {},
   "outputs": [],
   "source": [
    "audio_embed_ts_light = get_preview_embeddings('./ts_light.mp3').detach().numpy()"
   ]
  },
  {
   "cell_type": "code",
   "execution_count": 30,
   "id": "713dd3f9-d13a-43b1-b190-3e9708053e11",
   "metadata": {},
   "outputs": [],
   "source": [
    "audio_embed_th_bogus = get_preview_embeddings('./th_bogus.mp3').detach().numpy()"
   ]
  },
  {
   "cell_type": "code",
   "execution_count": 31,
   "id": "4276b720-4589-4f78-ae81-db76ad349a89",
   "metadata": {},
   "outputs": [],
   "source": [
    "audio_embed_th_comon = get_preview_embeddings('./th_comon.mp3').detach().numpy()"
   ]
  },
  {
   "cell_type": "code",
   "execution_count": 32,
   "id": "85e10936-5444-4e5d-86ca-cc37fb87268c",
   "metadata": {},
   "outputs": [],
   "source": [
    "audio_embed_jf_thunder = get_preview_embeddings('./jf_thunder.mp3').detach().numpy()"
   ]
  },
  {
   "cell_type": "code",
   "execution_count": null,
   "id": "eccc8566-b71e-4546-9493-5bf0cb58a9a2",
   "metadata": {},
   "outputs": [],
   "source": []
  },
  {
   "cell_type": "code",
   "execution_count": 33,
   "id": "a0302677-17c2-4d02-8dd6-fa06a6b1efe2",
   "metadata": {},
   "outputs": [],
   "source": [
    "from scipy.spatial.distance import cosine, euclidean, cityblock, chebyshev, mahalanobis"
   ]
  },
  {
   "cell_type": "code",
   "execution_count": 34,
   "id": "c0897527-d94f-463d-95f4-455c4d42c8dc",
   "metadata": {},
   "outputs": [],
   "source": [
    "# Function to compute distances between two embeddings\n",
    "def compute_distances(embedding1, embedding2):\n",
    "    cos_dist = cosine(embedding1, embedding2)\n",
    "    euclid_dist = euclidean(embedding1, embedding2)\n",
    "    return cos_dist, euclid_dist\n",
    "\n",
    "\n",
    "# Compute various distances between two embeddings\n",
    "def compute_distances(embedding1, embedding2, inv_cov_matrix=None):\n",
    "    # Cosine Similarity\n",
    "    cos_dist = cosine(embedding1, embedding2)\n",
    "    \n",
    "    # Euclidean Distance\n",
    "    euclid_dist = euclidean(embedding1, embedding2)\n",
    "    \n",
    "    # Manhattan Distance\n",
    "    manhattan_dist = cityblock(embedding1, embedding2)\n",
    "    \n",
    "    # Chebyshev Distance\n",
    "    chebyshev_dist = chebyshev(embedding1, embedding2)\n",
    "\n",
    "    try:\n",
    "        # Compute inverse of covariance matrix for Mahalanobis distance (if needed)\n",
    "        # Assuming you have multiple embeddings to calculate the covariance matrix\n",
    "        embeddings = np.array([embedding1, embedding2])  # Replace with your actual embeddings\n",
    "        cov_matrix = np.cov(embeddings, rowvar=False)\n",
    "        inv_cov_matrix = np.linalg.inv(cov_matrix)    \n",
    "    except:\n",
    "        inv_cov_matrix = None\n",
    "    \n",
    "    # Mahalanobis Distance (requires inverse of the covariance matrix)\n",
    "    mahalanobis_dist = None\n",
    "    if inv_cov_matrix is not None:\n",
    "        mahalanobis_dist = mahalanobis(embedding1, embedding2, inv_cov_matrix)\n",
    "    \n",
    "    return {\n",
    "        \"cosine_distance\": cos_dist,\n",
    "        \"euclidean_distance\": euclid_dist,\n",
    "        \"manhattan_distance\": manhattan_dist,\n",
    "        \"chebyshev_distance\": chebyshev_dist,\n",
    "        \"mahalanobis_distance\": mahalanobis_dist\n",
    "    }\n"
   ]
  },
  {
   "cell_type": "code",
   "execution_count": null,
   "id": "adb368d5-f2aa-49ef-aa05-0cfc51727a47",
   "metadata": {},
   "outputs": [],
   "source": [
    "sp.search()"
   ]
  },
  {
   "cell_type": "code",
   "execution_count": 35,
   "id": "e354caf7-6905-4dc1-882f-53f2f668f20f",
   "metadata": {},
   "outputs": [],
   "source": [
    "def get_audio_features(sp, search_string):\n",
    "    \"\"\"\n",
    "    Retrieves audio features for a given track search string using Spotipy.\n",
    "\n",
    "    Parameters:\n",
    "    sp (spotipy.Spotify): An authenticated Spotipy client instance.\n",
    "    search_string (str): The search string for the track (e.g., \"Shape of You Ed Sheeran\").\n",
    "\n",
    "    Returns:\n",
    "    dict: A dictionary of audio features for the track.\n",
    "    \"\"\"\n",
    "    # Search for the track\n",
    "    results = sp.search(q=search_string, type='track')\n",
    "    if not results['tracks']['items']:\n",
    "        return None\n",
    "\n",
    "    # Extract the track ID\n",
    "    track_id = results['tracks']['items'][0]['id']\n",
    "\n",
    "    # Get audio features for the track\n",
    "    audio_features = sp.audio_features(track_id)[0]\n",
    "\n",
    "    # Prepare the dictionary of audio features\n",
    "    features = {\n",
    "        \"danceability\": audio_features['danceability'],\n",
    "        \"energy\": audio_features['energy'],\n",
    "        \"key\": audio_features['key'],\n",
    "        \"loudness\": audio_features['loudness'],\n",
    "        \"mode\": audio_features['mode'],\n",
    "        \"speechiness\": audio_features['speechiness'],\n",
    "        \"acousticness\": audio_features['acousticness'],\n",
    "        \"instrumentalness\": audio_features['instrumentalness'],\n",
    "        \"liveness\": audio_features['liveness'],\n",
    "        \"valence\": audio_features['valence'],\n",
    "        \"tempo\": audio_features['tempo']\n",
    "    }\n",
    "\n",
    "    return features"
   ]
  },
  {
   "cell_type": "code",
   "execution_count": null,
   "id": "8fbc7dc4-2e00-476a-baba-4c24f399cbe1",
   "metadata": {},
   "outputs": [],
   "source": []
  },
  {
   "cell_type": "code",
   "execution_count": 36,
   "id": "abae9e4b-74f0-464f-a63a-148de86dc864",
   "metadata": {},
   "outputs": [],
   "source": [
    "cayetano_feats = get_audio_features(sp, 'cayetano carolina durante')"
   ]
  },
  {
   "cell_type": "code",
   "execution_count": 37,
   "id": "cc08a117-7ae0-4912-b06f-2bc212de2520",
   "metadata": {},
   "outputs": [],
   "source": [
    "himno_feats = get_audio_features(sp, 'el himno titular carolina durante')"
   ]
  },
  {
   "cell_type": "code",
   "execution_count": 38,
   "id": "d39588fc-3ea3-4dd3-a312-56186a98d3af",
   "metadata": {},
   "outputs": [],
   "source": [
    "gotyou_feats = get_audio_features(sp, 'got you amyl and the sniffers')"
   ]
  },
  {
   "cell_type": "code",
   "execution_count": 39,
   "id": "58940e31-92dd-49a3-89d0-eeb27a0ace67",
   "metadata": {},
   "outputs": [],
   "source": [
    "hertz_feats = get_audio_features(sp, 'hertz amyl and the sniffers')"
   ]
  },
  {
   "cell_type": "code",
   "execution_count": 40,
   "id": "428ec09e-0011-4188-b7cf-73220ea38230",
   "metadata": {},
   "outputs": [],
   "source": [
    "heart_feats = get_audio_features(sp, 'My Heart Will Go On')"
   ]
  },
  {
   "cell_type": "code",
   "execution_count": 41,
   "id": "cd49e934-b693-4e7b-9548-47461774f3ef",
   "metadata": {},
   "outputs": [],
   "source": [
    "mouth_feats = get_audio_features(sp, 'big mouth strikes again the smiths')"
   ]
  },
  {
   "cell_type": "code",
   "execution_count": 42,
   "id": "ffb87efb-e2db-4a38-927c-e9770be5c97a",
   "metadata": {},
   "outputs": [],
   "source": [
    "light_feats = get_audio_features(sp, 'there is a light that never goes out the smiths')"
   ]
  },
  {
   "cell_type": "code",
   "execution_count": 43,
   "id": "b6cc4890-62a7-4180-a02d-c6422b7af494",
   "metadata": {},
   "outputs": [],
   "source": [
    "bogus_feats = get_audio_features(sp, 'bogus operandi the hives')"
   ]
  },
  {
   "cell_type": "code",
   "execution_count": 44,
   "id": "3a5671f4-1938-481c-90e4-6b2d2a99745d",
   "metadata": {},
   "outputs": [],
   "source": [
    "comon_feats = get_audio_features(sp, 'come on the hives')"
   ]
  },
  {
   "cell_type": "code",
   "execution_count": 45,
   "id": "593b97e5-6f93-4528-91e6-34ad55f9ab8a",
   "metadata": {},
   "outputs": [],
   "source": [
    "thunder_feats = get_audio_features(sp, 'thunder island jay ferguson')"
   ]
  },
  {
   "cell_type": "code",
   "execution_count": null,
   "id": "969657d7-92b7-4391-872a-e525d707f5fc",
   "metadata": {},
   "outputs": [],
   "source": []
  },
  {
   "cell_type": "code",
   "execution_count": null,
   "id": "70657e7a-9d51-4d06-9497-2e3d98cbdb80",
   "metadata": {},
   "outputs": [],
   "source": []
  },
  {
   "cell_type": "code",
   "execution_count": 46,
   "id": "4597bdf3-cd2d-416c-8048-4aa722d355d8",
   "metadata": {},
   "outputs": [],
   "source": [
    "import pandas as pd\n",
    "\n",
    "feats_df = pd.DataFrame([cayetano_feats,\n",
    "                         himno_feats,\n",
    "                         hertz_feats,\n",
    "                         gotyou_feats,\n",
    "                         heart_feats,\n",
    "                         mouth_feats,\n",
    "                         light_feats,\n",
    "                         bogus_feats,\n",
    "                         comon_feats,\n",
    "                         thunder_feats\n",
    "                        ])"
   ]
  },
  {
   "cell_type": "code",
   "execution_count": 47,
   "id": "6db072c3-5680-4680-8510-90d049096166",
   "metadata": {},
   "outputs": [],
   "source": [
    "for c in feats_df.columns:\n",
    "    feats_df[c] = ((feats_df[c] - feats_df[c].min()) \n",
    "                   /  \n",
    "                   max(feats_df[c].max() - feats_df[c].min(), 0.00001)\n",
    "                  ) "
   ]
  },
  {
   "cell_type": "code",
   "execution_count": 48,
   "id": "905713ff-d80d-404e-9a93-06f35d4be103",
   "metadata": {},
   "outputs": [],
   "source": [
    "feats_df['song'] = ['cayetano', 'himno', 'hertz', 'gotyou', 'heart', 'mouth', 'light', 'bogus', 'comon', 'thunder']"
   ]
  },
  {
   "cell_type": "code",
   "execution_count": 49,
   "id": "3f88ae5c-3a9d-4995-b48d-a7bcae639c6d",
   "metadata": {},
   "outputs": [
    {
     "data": {
      "text/html": [
       "<div>\n",
       "<style scoped>\n",
       "    .dataframe tbody tr th:only-of-type {\n",
       "        vertical-align: middle;\n",
       "    }\n",
       "\n",
       "    .dataframe tbody tr th {\n",
       "        vertical-align: top;\n",
       "    }\n",
       "\n",
       "    .dataframe thead th {\n",
       "        text-align: right;\n",
       "    }\n",
       "</style>\n",
       "<table border=\"1\" class=\"dataframe\">\n",
       "  <thead>\n",
       "    <tr style=\"text-align: right;\">\n",
       "      <th></th>\n",
       "      <th>danceability</th>\n",
       "      <th>energy</th>\n",
       "      <th>key</th>\n",
       "      <th>loudness</th>\n",
       "      <th>mode</th>\n",
       "      <th>speechiness</th>\n",
       "      <th>acousticness</th>\n",
       "      <th>instrumentalness</th>\n",
       "      <th>liveness</th>\n",
       "      <th>valence</th>\n",
       "      <th>tempo</th>\n",
       "      <th>song</th>\n",
       "    </tr>\n",
       "  </thead>\n",
       "  <tbody>\n",
       "    <tr>\n",
       "      <th>0</th>\n",
       "      <td>0.612613</td>\n",
       "      <td>0.990251</td>\n",
       "      <td>0.363636</td>\n",
       "      <td>0.836765</td>\n",
       "      <td>1.0</td>\n",
       "      <td>0.335231</td>\n",
       "      <td>0.027871</td>\n",
       "      <td>0.000000</td>\n",
       "      <td>0.515351</td>\n",
       "      <td>0.684889</td>\n",
       "      <td>0.449389</td>\n",
       "      <td>cayetano</td>\n",
       "    </tr>\n",
       "    <tr>\n",
       "      <th>1</th>\n",
       "      <td>0.201201</td>\n",
       "      <td>0.987465</td>\n",
       "      <td>0.363636</td>\n",
       "      <td>0.787016</td>\n",
       "      <td>1.0</td>\n",
       "      <td>0.256799</td>\n",
       "      <td>0.187270</td>\n",
       "      <td>0.000000</td>\n",
       "      <td>0.576754</td>\n",
       "      <td>0.585820</td>\n",
       "      <td>0.020690</td>\n",
       "      <td>himno</td>\n",
       "    </tr>\n",
       "    <tr>\n",
       "      <th>2</th>\n",
       "      <td>0.000000</td>\n",
       "      <td>0.887187</td>\n",
       "      <td>0.090909</td>\n",
       "      <td>0.896956</td>\n",
       "      <td>0.0</td>\n",
       "      <td>0.487666</td>\n",
       "      <td>0.000821</td>\n",
       "      <td>0.000246</td>\n",
       "      <td>0.171053</td>\n",
       "      <td>0.887801</td>\n",
       "      <td>1.000000</td>\n",
       "      <td>hertz</td>\n",
       "    </tr>\n",
       "    <tr>\n",
       "      <th>3</th>\n",
       "      <td>1.000000</td>\n",
       "      <td>0.668524</td>\n",
       "      <td>0.090909</td>\n",
       "      <td>0.732736</td>\n",
       "      <td>1.0</td>\n",
       "      <td>0.169513</td>\n",
       "      <td>0.002545</td>\n",
       "      <td>0.562706</td>\n",
       "      <td>0.059211</td>\n",
       "      <td>0.706374</td>\n",
       "      <td>0.014822</td>\n",
       "      <td>gotyou</td>\n",
       "    </tr>\n",
       "    <tr>\n",
       "      <th>4</th>\n",
       "      <td>0.297297</td>\n",
       "      <td>0.000000</td>\n",
       "      <td>0.363636</td>\n",
       "      <td>0.000000</td>\n",
       "      <td>1.0</td>\n",
       "      <td>0.027198</td>\n",
       "      <td>1.000000</td>\n",
       "      <td>0.000088</td>\n",
       "      <td>0.000000</td>\n",
       "      <td>0.000000</td>\n",
       "      <td>0.071318</td>\n",
       "      <td>heart</td>\n",
       "    </tr>\n",
       "    <tr>\n",
       "      <th>5</th>\n",
       "      <td>0.216216</td>\n",
       "      <td>0.870474</td>\n",
       "      <td>0.090909</td>\n",
       "      <td>0.661807</td>\n",
       "      <td>0.0</td>\n",
       "      <td>0.089184</td>\n",
       "      <td>0.094777</td>\n",
       "      <td>0.000000</td>\n",
       "      <td>0.923246</td>\n",
       "      <td>0.955837</td>\n",
       "      <td>0.458212</td>\n",
       "      <td>mouth</td>\n",
       "    </tr>\n",
       "    <tr>\n",
       "      <th>6</th>\n",
       "      <td>0.582583</td>\n",
       "      <td>0.686630</td>\n",
       "      <td>0.363636</td>\n",
       "      <td>0.578662</td>\n",
       "      <td>1.0</td>\n",
       "      <td>0.000000</td>\n",
       "      <td>0.053183</td>\n",
       "      <td>0.000000</td>\n",
       "      <td>0.041667</td>\n",
       "      <td>1.000000</td>\n",
       "      <td>0.473024</td>\n",
       "      <td>light</td>\n",
       "    </tr>\n",
       "    <tr>\n",
       "      <th>7</th>\n",
       "      <td>0.078078</td>\n",
       "      <td>1.000000</td>\n",
       "      <td>1.000000</td>\n",
       "      <td>1.000000</td>\n",
       "      <td>0.0</td>\n",
       "      <td>1.000000</td>\n",
       "      <td>0.028965</td>\n",
       "      <td>0.000513</td>\n",
       "      <td>0.442982</td>\n",
       "      <td>0.052877</td>\n",
       "      <td>0.568595</td>\n",
       "      <td>bogus</td>\n",
       "    </tr>\n",
       "    <tr>\n",
       "      <th>8</th>\n",
       "      <td>0.612613</td>\n",
       "      <td>0.793872</td>\n",
       "      <td>0.818182</td>\n",
       "      <td>0.690474</td>\n",
       "      <td>1.0</td>\n",
       "      <td>0.160025</td>\n",
       "      <td>0.008948</td>\n",
       "      <td>0.214521</td>\n",
       "      <td>1.000000</td>\n",
       "      <td>0.812604</td>\n",
       "      <td>0.000000</td>\n",
       "      <td>comon</td>\n",
       "    </tr>\n",
       "    <tr>\n",
       "      <th>9</th>\n",
       "      <td>0.504505</td>\n",
       "      <td>0.615599</td>\n",
       "      <td>0.000000</td>\n",
       "      <td>0.392572</td>\n",
       "      <td>1.0</td>\n",
       "      <td>0.003795</td>\n",
       "      <td>0.000000</td>\n",
       "      <td>1.000000</td>\n",
       "      <td>0.936404</td>\n",
       "      <td>0.899737</td>\n",
       "      <td>0.382048</td>\n",
       "      <td>thunder</td>\n",
       "    </tr>\n",
       "  </tbody>\n",
       "</table>\n",
       "</div>"
      ],
      "text/plain": [
       "   danceability    energy       key  loudness  mode  speechiness  \\\n",
       "0      0.612613  0.990251  0.363636  0.836765   1.0     0.335231   \n",
       "1      0.201201  0.987465  0.363636  0.787016   1.0     0.256799   \n",
       "2      0.000000  0.887187  0.090909  0.896956   0.0     0.487666   \n",
       "3      1.000000  0.668524  0.090909  0.732736   1.0     0.169513   \n",
       "4      0.297297  0.000000  0.363636  0.000000   1.0     0.027198   \n",
       "5      0.216216  0.870474  0.090909  0.661807   0.0     0.089184   \n",
       "6      0.582583  0.686630  0.363636  0.578662   1.0     0.000000   \n",
       "7      0.078078  1.000000  1.000000  1.000000   0.0     1.000000   \n",
       "8      0.612613  0.793872  0.818182  0.690474   1.0     0.160025   \n",
       "9      0.504505  0.615599  0.000000  0.392572   1.0     0.003795   \n",
       "\n",
       "   acousticness  instrumentalness  liveness   valence     tempo      song  \n",
       "0      0.027871          0.000000  0.515351  0.684889  0.449389  cayetano  \n",
       "1      0.187270          0.000000  0.576754  0.585820  0.020690     himno  \n",
       "2      0.000821          0.000246  0.171053  0.887801  1.000000     hertz  \n",
       "3      0.002545          0.562706  0.059211  0.706374  0.014822    gotyou  \n",
       "4      1.000000          0.000088  0.000000  0.000000  0.071318     heart  \n",
       "5      0.094777          0.000000  0.923246  0.955837  0.458212     mouth  \n",
       "6      0.053183          0.000000  0.041667  1.000000  0.473024     light  \n",
       "7      0.028965          0.000513  0.442982  0.052877  0.568595     bogus  \n",
       "8      0.008948          0.214521  1.000000  0.812604  0.000000     comon  \n",
       "9      0.000000          1.000000  0.936404  0.899737  0.382048   thunder  "
      ]
     },
     "execution_count": 49,
     "metadata": {},
     "output_type": "execute_result"
    }
   ],
   "source": [
    "feats_df"
   ]
  },
  {
   "cell_type": "code",
   "execution_count": 50,
   "id": "a070aa02-2679-4ec9-8fc6-6222d4974ba4",
   "metadata": {},
   "outputs": [],
   "source": [
    "n_feats = len(feats_df[feats_df['song']=='cayetano'].drop(columns=['song', 'mode', 'key']).values.squeeze())"
   ]
  },
  {
   "cell_type": "code",
   "execution_count": 86,
   "id": "5386732d-75ab-45a1-b93d-c7a94c4bf69b",
   "metadata": {
    "scrolled": true
   },
   "outputs": [],
   "source": [
    "embed_df = pd.DataFrame([audio_embed_my_heart_will_go_on.flatten(),\n",
    "                         audio_embed_cayetano.flatten(),\n",
    "                         audio_embed_himno.flatten(),\n",
    "                         audio_embed_gotyou.flatten(),\n",
    "                         audio_embed_hertz.flatten(),\n",
    "                         audio_embed_ts_big_mouth.flatten(),\n",
    "                         audio_embed_ts_light.flatten(),\n",
    "                         audio_embed_th_bogus.flatten(),\n",
    "                         audio_embed_th_comon.flatten(),\n",
    "                         audio_embed_jf_thunder.flatten()\n",
    "                        ]\n",
    "                       )"
   ]
  },
  {
   "cell_type": "code",
   "execution_count": 87,
   "id": "039eda5d-cc33-486d-a1af-b8eeb9cc8259",
   "metadata": {
    "scrolled": true
   },
   "outputs": [
    {
     "data": {
      "text/html": [
       "<style>#sk-container-id-2 {\n",
       "  /* Definition of color scheme common for light and dark mode */\n",
       "  --sklearn-color-text: black;\n",
       "  --sklearn-color-line: gray;\n",
       "  /* Definition of color scheme for unfitted estimators */\n",
       "  --sklearn-color-unfitted-level-0: #fff5e6;\n",
       "  --sklearn-color-unfitted-level-1: #f6e4d2;\n",
       "  --sklearn-color-unfitted-level-2: #ffe0b3;\n",
       "  --sklearn-color-unfitted-level-3: chocolate;\n",
       "  /* Definition of color scheme for fitted estimators */\n",
       "  --sklearn-color-fitted-level-0: #f0f8ff;\n",
       "  --sklearn-color-fitted-level-1: #d4ebff;\n",
       "  --sklearn-color-fitted-level-2: #b3dbfd;\n",
       "  --sklearn-color-fitted-level-3: cornflowerblue;\n",
       "\n",
       "  /* Specific color for light theme */\n",
       "  --sklearn-color-text-on-default-background: var(--sg-text-color, var(--theme-code-foreground, var(--jp-content-font-color1, black)));\n",
       "  --sklearn-color-background: var(--sg-background-color, var(--theme-background, var(--jp-layout-color0, white)));\n",
       "  --sklearn-color-border-box: var(--sg-text-color, var(--theme-code-foreground, var(--jp-content-font-color1, black)));\n",
       "  --sklearn-color-icon: #696969;\n",
       "\n",
       "  @media (prefers-color-scheme: dark) {\n",
       "    /* Redefinition of color scheme for dark theme */\n",
       "    --sklearn-color-text-on-default-background: var(--sg-text-color, var(--theme-code-foreground, var(--jp-content-font-color1, white)));\n",
       "    --sklearn-color-background: var(--sg-background-color, var(--theme-background, var(--jp-layout-color0, #111)));\n",
       "    --sklearn-color-border-box: var(--sg-text-color, var(--theme-code-foreground, var(--jp-content-font-color1, white)));\n",
       "    --sklearn-color-icon: #878787;\n",
       "  }\n",
       "}\n",
       "\n",
       "#sk-container-id-2 {\n",
       "  color: var(--sklearn-color-text);\n",
       "}\n",
       "\n",
       "#sk-container-id-2 pre {\n",
       "  padding: 0;\n",
       "}\n",
       "\n",
       "#sk-container-id-2 input.sk-hidden--visually {\n",
       "  border: 0;\n",
       "  clip: rect(1px 1px 1px 1px);\n",
       "  clip: rect(1px, 1px, 1px, 1px);\n",
       "  height: 1px;\n",
       "  margin: -1px;\n",
       "  overflow: hidden;\n",
       "  padding: 0;\n",
       "  position: absolute;\n",
       "  width: 1px;\n",
       "}\n",
       "\n",
       "#sk-container-id-2 div.sk-dashed-wrapped {\n",
       "  border: 1px dashed var(--sklearn-color-line);\n",
       "  margin: 0 0.4em 0.5em 0.4em;\n",
       "  box-sizing: border-box;\n",
       "  padding-bottom: 0.4em;\n",
       "  background-color: var(--sklearn-color-background);\n",
       "}\n",
       "\n",
       "#sk-container-id-2 div.sk-container {\n",
       "  /* jupyter's `normalize.less` sets `[hidden] { display: none; }`\n",
       "     but bootstrap.min.css set `[hidden] { display: none !important; }`\n",
       "     so we also need the `!important` here to be able to override the\n",
       "     default hidden behavior on the sphinx rendered scikit-learn.org.\n",
       "     See: https://github.com/scikit-learn/scikit-learn/issues/21755 */\n",
       "  display: inline-block !important;\n",
       "  position: relative;\n",
       "}\n",
       "\n",
       "#sk-container-id-2 div.sk-text-repr-fallback {\n",
       "  display: none;\n",
       "}\n",
       "\n",
       "div.sk-parallel-item,\n",
       "div.sk-serial,\n",
       "div.sk-item {\n",
       "  /* draw centered vertical line to link estimators */\n",
       "  background-image: linear-gradient(var(--sklearn-color-text-on-default-background), var(--sklearn-color-text-on-default-background));\n",
       "  background-size: 2px 100%;\n",
       "  background-repeat: no-repeat;\n",
       "  background-position: center center;\n",
       "}\n",
       "\n",
       "/* Parallel-specific style estimator block */\n",
       "\n",
       "#sk-container-id-2 div.sk-parallel-item::after {\n",
       "  content: \"\";\n",
       "  width: 100%;\n",
       "  border-bottom: 2px solid var(--sklearn-color-text-on-default-background);\n",
       "  flex-grow: 1;\n",
       "}\n",
       "\n",
       "#sk-container-id-2 div.sk-parallel {\n",
       "  display: flex;\n",
       "  align-items: stretch;\n",
       "  justify-content: center;\n",
       "  background-color: var(--sklearn-color-background);\n",
       "  position: relative;\n",
       "}\n",
       "\n",
       "#sk-container-id-2 div.sk-parallel-item {\n",
       "  display: flex;\n",
       "  flex-direction: column;\n",
       "}\n",
       "\n",
       "#sk-container-id-2 div.sk-parallel-item:first-child::after {\n",
       "  align-self: flex-end;\n",
       "  width: 50%;\n",
       "}\n",
       "\n",
       "#sk-container-id-2 div.sk-parallel-item:last-child::after {\n",
       "  align-self: flex-start;\n",
       "  width: 50%;\n",
       "}\n",
       "\n",
       "#sk-container-id-2 div.sk-parallel-item:only-child::after {\n",
       "  width: 0;\n",
       "}\n",
       "\n",
       "/* Serial-specific style estimator block */\n",
       "\n",
       "#sk-container-id-2 div.sk-serial {\n",
       "  display: flex;\n",
       "  flex-direction: column;\n",
       "  align-items: center;\n",
       "  background-color: var(--sklearn-color-background);\n",
       "  padding-right: 1em;\n",
       "  padding-left: 1em;\n",
       "}\n",
       "\n",
       "\n",
       "/* Toggleable style: style used for estimator/Pipeline/ColumnTransformer box that is\n",
       "clickable and can be expanded/collapsed.\n",
       "- Pipeline and ColumnTransformer use this feature and define the default style\n",
       "- Estimators will overwrite some part of the style using the `sk-estimator` class\n",
       "*/\n",
       "\n",
       "/* Pipeline and ColumnTransformer style (default) */\n",
       "\n",
       "#sk-container-id-2 div.sk-toggleable {\n",
       "  /* Default theme specific background. It is overwritten whether we have a\n",
       "  specific estimator or a Pipeline/ColumnTransformer */\n",
       "  background-color: var(--sklearn-color-background);\n",
       "}\n",
       "\n",
       "/* Toggleable label */\n",
       "#sk-container-id-2 label.sk-toggleable__label {\n",
       "  cursor: pointer;\n",
       "  display: block;\n",
       "  width: 100%;\n",
       "  margin-bottom: 0;\n",
       "  padding: 0.5em;\n",
       "  box-sizing: border-box;\n",
       "  text-align: center;\n",
       "}\n",
       "\n",
       "#sk-container-id-2 label.sk-toggleable__label-arrow:before {\n",
       "  /* Arrow on the left of the label */\n",
       "  content: \"▸\";\n",
       "  float: left;\n",
       "  margin-right: 0.25em;\n",
       "  color: var(--sklearn-color-icon);\n",
       "}\n",
       "\n",
       "#sk-container-id-2 label.sk-toggleable__label-arrow:hover:before {\n",
       "  color: var(--sklearn-color-text);\n",
       "}\n",
       "\n",
       "/* Toggleable content - dropdown */\n",
       "\n",
       "#sk-container-id-2 div.sk-toggleable__content {\n",
       "  max-height: 0;\n",
       "  max-width: 0;\n",
       "  overflow: hidden;\n",
       "  text-align: left;\n",
       "  /* unfitted */\n",
       "  background-color: var(--sklearn-color-unfitted-level-0);\n",
       "}\n",
       "\n",
       "#sk-container-id-2 div.sk-toggleable__content.fitted {\n",
       "  /* fitted */\n",
       "  background-color: var(--sklearn-color-fitted-level-0);\n",
       "}\n",
       "\n",
       "#sk-container-id-2 div.sk-toggleable__content pre {\n",
       "  margin: 0.2em;\n",
       "  border-radius: 0.25em;\n",
       "  color: var(--sklearn-color-text);\n",
       "  /* unfitted */\n",
       "  background-color: var(--sklearn-color-unfitted-level-0);\n",
       "}\n",
       "\n",
       "#sk-container-id-2 div.sk-toggleable__content.fitted pre {\n",
       "  /* unfitted */\n",
       "  background-color: var(--sklearn-color-fitted-level-0);\n",
       "}\n",
       "\n",
       "#sk-container-id-2 input.sk-toggleable__control:checked~div.sk-toggleable__content {\n",
       "  /* Expand drop-down */\n",
       "  max-height: 200px;\n",
       "  max-width: 100%;\n",
       "  overflow: auto;\n",
       "}\n",
       "\n",
       "#sk-container-id-2 input.sk-toggleable__control:checked~label.sk-toggleable__label-arrow:before {\n",
       "  content: \"▾\";\n",
       "}\n",
       "\n",
       "/* Pipeline/ColumnTransformer-specific style */\n",
       "\n",
       "#sk-container-id-2 div.sk-label input.sk-toggleable__control:checked~label.sk-toggleable__label {\n",
       "  color: var(--sklearn-color-text);\n",
       "  background-color: var(--sklearn-color-unfitted-level-2);\n",
       "}\n",
       "\n",
       "#sk-container-id-2 div.sk-label.fitted input.sk-toggleable__control:checked~label.sk-toggleable__label {\n",
       "  background-color: var(--sklearn-color-fitted-level-2);\n",
       "}\n",
       "\n",
       "/* Estimator-specific style */\n",
       "\n",
       "/* Colorize estimator box */\n",
       "#sk-container-id-2 div.sk-estimator input.sk-toggleable__control:checked~label.sk-toggleable__label {\n",
       "  /* unfitted */\n",
       "  background-color: var(--sklearn-color-unfitted-level-2);\n",
       "}\n",
       "\n",
       "#sk-container-id-2 div.sk-estimator.fitted input.sk-toggleable__control:checked~label.sk-toggleable__label {\n",
       "  /* fitted */\n",
       "  background-color: var(--sklearn-color-fitted-level-2);\n",
       "}\n",
       "\n",
       "#sk-container-id-2 div.sk-label label.sk-toggleable__label,\n",
       "#sk-container-id-2 div.sk-label label {\n",
       "  /* The background is the default theme color */\n",
       "  color: var(--sklearn-color-text-on-default-background);\n",
       "}\n",
       "\n",
       "/* On hover, darken the color of the background */\n",
       "#sk-container-id-2 div.sk-label:hover label.sk-toggleable__label {\n",
       "  color: var(--sklearn-color-text);\n",
       "  background-color: var(--sklearn-color-unfitted-level-2);\n",
       "}\n",
       "\n",
       "/* Label box, darken color on hover, fitted */\n",
       "#sk-container-id-2 div.sk-label.fitted:hover label.sk-toggleable__label.fitted {\n",
       "  color: var(--sklearn-color-text);\n",
       "  background-color: var(--sklearn-color-fitted-level-2);\n",
       "}\n",
       "\n",
       "/* Estimator label */\n",
       "\n",
       "#sk-container-id-2 div.sk-label label {\n",
       "  font-family: monospace;\n",
       "  font-weight: bold;\n",
       "  display: inline-block;\n",
       "  line-height: 1.2em;\n",
       "}\n",
       "\n",
       "#sk-container-id-2 div.sk-label-container {\n",
       "  text-align: center;\n",
       "}\n",
       "\n",
       "/* Estimator-specific */\n",
       "#sk-container-id-2 div.sk-estimator {\n",
       "  font-family: monospace;\n",
       "  border: 1px dotted var(--sklearn-color-border-box);\n",
       "  border-radius: 0.25em;\n",
       "  box-sizing: border-box;\n",
       "  margin-bottom: 0.5em;\n",
       "  /* unfitted */\n",
       "  background-color: var(--sklearn-color-unfitted-level-0);\n",
       "}\n",
       "\n",
       "#sk-container-id-2 div.sk-estimator.fitted {\n",
       "  /* fitted */\n",
       "  background-color: var(--sklearn-color-fitted-level-0);\n",
       "}\n",
       "\n",
       "/* on hover */\n",
       "#sk-container-id-2 div.sk-estimator:hover {\n",
       "  /* unfitted */\n",
       "  background-color: var(--sklearn-color-unfitted-level-2);\n",
       "}\n",
       "\n",
       "#sk-container-id-2 div.sk-estimator.fitted:hover {\n",
       "  /* fitted */\n",
       "  background-color: var(--sklearn-color-fitted-level-2);\n",
       "}\n",
       "\n",
       "/* Specification for estimator info (e.g. \"i\" and \"?\") */\n",
       "\n",
       "/* Common style for \"i\" and \"?\" */\n",
       "\n",
       ".sk-estimator-doc-link,\n",
       "a:link.sk-estimator-doc-link,\n",
       "a:visited.sk-estimator-doc-link {\n",
       "  float: right;\n",
       "  font-size: smaller;\n",
       "  line-height: 1em;\n",
       "  font-family: monospace;\n",
       "  background-color: var(--sklearn-color-background);\n",
       "  border-radius: 1em;\n",
       "  height: 1em;\n",
       "  width: 1em;\n",
       "  text-decoration: none !important;\n",
       "  margin-left: 1ex;\n",
       "  /* unfitted */\n",
       "  border: var(--sklearn-color-unfitted-level-1) 1pt solid;\n",
       "  color: var(--sklearn-color-unfitted-level-1);\n",
       "}\n",
       "\n",
       ".sk-estimator-doc-link.fitted,\n",
       "a:link.sk-estimator-doc-link.fitted,\n",
       "a:visited.sk-estimator-doc-link.fitted {\n",
       "  /* fitted */\n",
       "  border: var(--sklearn-color-fitted-level-1) 1pt solid;\n",
       "  color: var(--sklearn-color-fitted-level-1);\n",
       "}\n",
       "\n",
       "/* On hover */\n",
       "div.sk-estimator:hover .sk-estimator-doc-link:hover,\n",
       ".sk-estimator-doc-link:hover,\n",
       "div.sk-label-container:hover .sk-estimator-doc-link:hover,\n",
       ".sk-estimator-doc-link:hover {\n",
       "  /* unfitted */\n",
       "  background-color: var(--sklearn-color-unfitted-level-3);\n",
       "  color: var(--sklearn-color-background);\n",
       "  text-decoration: none;\n",
       "}\n",
       "\n",
       "div.sk-estimator.fitted:hover .sk-estimator-doc-link.fitted:hover,\n",
       ".sk-estimator-doc-link.fitted:hover,\n",
       "div.sk-label-container:hover .sk-estimator-doc-link.fitted:hover,\n",
       ".sk-estimator-doc-link.fitted:hover {\n",
       "  /* fitted */\n",
       "  background-color: var(--sklearn-color-fitted-level-3);\n",
       "  color: var(--sklearn-color-background);\n",
       "  text-decoration: none;\n",
       "}\n",
       "\n",
       "/* Span, style for the box shown on hovering the info icon */\n",
       ".sk-estimator-doc-link span {\n",
       "  display: none;\n",
       "  z-index: 9999;\n",
       "  position: relative;\n",
       "  font-weight: normal;\n",
       "  right: .2ex;\n",
       "  padding: .5ex;\n",
       "  margin: .5ex;\n",
       "  width: min-content;\n",
       "  min-width: 20ex;\n",
       "  max-width: 50ex;\n",
       "  color: var(--sklearn-color-text);\n",
       "  box-shadow: 2pt 2pt 4pt #999;\n",
       "  /* unfitted */\n",
       "  background: var(--sklearn-color-unfitted-level-0);\n",
       "  border: .5pt solid var(--sklearn-color-unfitted-level-3);\n",
       "}\n",
       "\n",
       ".sk-estimator-doc-link.fitted span {\n",
       "  /* fitted */\n",
       "  background: var(--sklearn-color-fitted-level-0);\n",
       "  border: var(--sklearn-color-fitted-level-3);\n",
       "}\n",
       "\n",
       ".sk-estimator-doc-link:hover span {\n",
       "  display: block;\n",
       "}\n",
       "\n",
       "/* \"?\"-specific style due to the `<a>` HTML tag */\n",
       "\n",
       "#sk-container-id-2 a.estimator_doc_link {\n",
       "  float: right;\n",
       "  font-size: 1rem;\n",
       "  line-height: 1em;\n",
       "  font-family: monospace;\n",
       "  background-color: var(--sklearn-color-background);\n",
       "  border-radius: 1rem;\n",
       "  height: 1rem;\n",
       "  width: 1rem;\n",
       "  text-decoration: none;\n",
       "  /* unfitted */\n",
       "  color: var(--sklearn-color-unfitted-level-1);\n",
       "  border: var(--sklearn-color-unfitted-level-1) 1pt solid;\n",
       "}\n",
       "\n",
       "#sk-container-id-2 a.estimator_doc_link.fitted {\n",
       "  /* fitted */\n",
       "  border: var(--sklearn-color-fitted-level-1) 1pt solid;\n",
       "  color: var(--sklearn-color-fitted-level-1);\n",
       "}\n",
       "\n",
       "/* On hover */\n",
       "#sk-container-id-2 a.estimator_doc_link:hover {\n",
       "  /* unfitted */\n",
       "  background-color: var(--sklearn-color-unfitted-level-3);\n",
       "  color: var(--sklearn-color-background);\n",
       "  text-decoration: none;\n",
       "}\n",
       "\n",
       "#sk-container-id-2 a.estimator_doc_link.fitted:hover {\n",
       "  /* fitted */\n",
       "  background-color: var(--sklearn-color-fitted-level-3);\n",
       "}\n",
       "</style><div id=\"sk-container-id-2\" class=\"sk-top-container\"><div class=\"sk-text-repr-fallback\"><pre>TSNE(method=&#x27;exact&#x27;, metric=&#x27;cosine&#x27;, n_components=9, perplexity=8.9)</pre><b>In a Jupyter environment, please rerun this cell to show the HTML representation or trust the notebook. <br />On GitHub, the HTML representation is unable to render, please try loading this page with nbviewer.org.</b></div><div class=\"sk-container\" hidden><div class=\"sk-item\"><div class=\"sk-estimator fitted sk-toggleable\"><input class=\"sk-toggleable__control sk-hidden--visually\" id=\"sk-estimator-id-2\" type=\"checkbox\" checked><label for=\"sk-estimator-id-2\" class=\"sk-toggleable__label fitted sk-toggleable__label-arrow fitted\">&nbsp;&nbsp;TSNE<a class=\"sk-estimator-doc-link fitted\" rel=\"noreferrer\" target=\"_blank\" href=\"https://scikit-learn.org/1.5/modules/generated/sklearn.manifold.TSNE.html\">?<span>Documentation for TSNE</span></a><span class=\"sk-estimator-doc-link fitted\">i<span>Fitted</span></span></label><div class=\"sk-toggleable__content fitted\"><pre>TSNE(method=&#x27;exact&#x27;, metric=&#x27;cosine&#x27;, n_components=9, perplexity=8.9)</pre></div> </div></div></div></div>"
      ],
      "text/plain": [
       "TSNE(method='exact', metric='cosine', n_components=9, perplexity=8.9)"
      ]
     },
     "execution_count": 87,
     "metadata": {},
     "output_type": "execute_result"
    }
   ],
   "source": [
    "from sklearn.decomposition import PCA\n",
    "from sklearn.manifold import TSNE\n",
    "\n",
    "# Assuming 'embeddings' is your 2D array of shape (num_samples, 512) containing embeddings\n",
    "# Replace this with your actual embeddings data\n",
    "\n",
    "# Perform PCA\n",
    "pca = PCA(n_components=n_feats)\n",
    "\n",
    "pca.fit(embed_df)\n",
    "\n",
    "# Perform t-SNE\n",
    "tsne = TSNE(n_components=n_feats, perplexity=8.9, method='exact', metric='cosine')\n",
    "\n",
    "tsne.fit(embed_df)\n"
   ]
  },
  {
   "cell_type": "markdown",
   "id": "0f259c2f-7ac9-421c-a2e7-b854b49611f0",
   "metadata": {},
   "source": [
    "## Cayetano vs My Heart"
   ]
  },
  {
   "cell_type": "code",
   "execution_count": 56,
   "id": "6529518d-3119-4406-b692-3f09d8c6319f",
   "metadata": {},
   "outputs": [
    {
     "data": {
      "text/plain": [
       "{'cosine_distance': 0.27320782701922364,\n",
       " 'euclidean_distance': 0.7391995191574097,\n",
       " 'manhattan_distance': 13.457222,\n",
       " 'chebyshev_distance': 0.096170545,\n",
       " 'mahalanobis_distance': None}"
      ]
     },
     "execution_count": 56,
     "metadata": {},
     "output_type": "execute_result"
    }
   ],
   "source": [
    "compute_distances(audio_embed_cayetano.squeeze(), audio_embed_my_heart_will_go_on.squeeze())"
   ]
  },
  {
   "cell_type": "code",
   "execution_count": 112,
   "id": "db5c8afa-f9f2-40d1-bc5f-e9b99b8f8001",
   "metadata": {},
   "outputs": [
    {
     "data": {
      "text/plain": [
       "{'cosine_distance': 0.891540246454024,\n",
       " 'euclidean_distance': 2.2146352929226114,\n",
       " 'manhattan_distance': 5.938988837039051,\n",
       " 'chebyshev_distance': 1.0,\n",
       " 'mahalanobis_distance': None}"
      ]
     },
     "execution_count": 112,
     "metadata": {},
     "output_type": "execute_result"
    }
   ],
   "source": [
    "compute_distances(feats_df[feats_df['song']=='cayetano'].drop(columns=['song', 'mode', 'key']).values.squeeze(), \n",
    "                  feats_df[feats_df['song']=='heart'].drop(columns=['song', 'mode', 'key']).values.squeeze())\n"
   ]
  },
  {
   "cell_type": "code",
   "execution_count": 88,
   "id": "4d898ec8-dcf9-4169-8d61-c866235bd72f",
   "metadata": {},
   "outputs": [
    {
     "data": {
      "text/plain": [
       "{'cosine_distance': 0.9256960803047407,\n",
       " 'euclidean_distance': 2.106345402952978,\n",
       " 'manhattan_distance': 6.78280534430086,\n",
       " 'chebyshev_distance': 0.9902506963788301,\n",
       " 'mahalanobis_distance': 2.088328867879624}"
      ]
     },
     "execution_count": 88,
     "metadata": {},
     "output_type": "execute_result"
    }
   ],
   "source": [
    "compute_distances(\n",
    "                  np.concatenate(\n",
    "                                  (\n",
    "                                  pca.transform(audio_embed_cayetano.reshape(1, -1)).squeeze(),\n",
    "                                  feats_df[feats_df['song']=='cayetano'].drop(columns=['song', 'mode', 'key']).values.squeeze()\n",
    "                                  )\n",
    "                                )                                \n",
    "                  , \n",
    "                  np.concatenate(\n",
    "                                  (\n",
    "                                  pca.transform(audio_embed_my_heart_will_go_on.reshape(1, -1)).squeeze(),\n",
    "                                  feats_df[feats_df['song']=='heart'].drop(columns=['song', 'mode', 'key']).values.squeeze()\n",
    "                                  )\n",
    "                                )\n",
    ")\n"
   ]
  },
  {
   "cell_type": "markdown",
   "id": "55ed1093-0551-48b2-9871-a4382751050e",
   "metadata": {},
   "source": [
    "## Cayetano vs Himno"
   ]
  },
  {
   "cell_type": "code",
   "execution_count": 57,
   "id": "bcc96645-731a-4999-8463-62270892e1ae",
   "metadata": {
    "scrolled": true
   },
   "outputs": [
    {
     "data": {
      "text/plain": [
       "{'cosine_distance': 0.17769837379455566,\n",
       " 'euclidean_distance': 0.5961517691612244,\n",
       " 'manhattan_distance': 10.686256,\n",
       " 'chebyshev_distance': 0.08349282,\n",
       " 'mahalanobis_distance': None}"
      ]
     },
     "execution_count": 57,
     "metadata": {},
     "output_type": "execute_result"
    }
   ],
   "source": [
    "compute_distances(audio_embed_cayetano.squeeze(), audio_embed_himno.squeeze())"
   ]
  },
  {
   "cell_type": "code",
   "execution_count": 113,
   "id": "b8e0cda5-529f-44d8-a69a-ffb10d490160",
   "metadata": {},
   "outputs": [
    {
     "data": {
      "text/plain": [
       "{'cosine_distance': 0.051878607174507874,\n",
       " 'euclidean_distance': 0.6632846128226539,\n",
       " 'manhattan_distance': 1.452749624354583,\n",
       " 'chebyshev_distance': 0.43514852031193113,\n",
       " 'mahalanobis_distance': None}"
      ]
     },
     "execution_count": 113,
     "metadata": {},
     "output_type": "execute_result"
    }
   ],
   "source": [
    "compute_distances(feats_df[feats_df['song']=='cayetano'].drop(columns=['song', 'mode', 'key']).values.squeeze(), \n",
    "                  feats_df[feats_df['song']=='himno'].drop(columns=['song', 'mode', 'key']).values.squeeze())\n"
   ]
  },
  {
   "cell_type": "code",
   "execution_count": 89,
   "id": "4d262ac8-dbb1-49c7-97b6-144e564335ec",
   "metadata": {},
   "outputs": [
    {
     "data": {
      "text/plain": [
       "{'cosine_distance': 0.12649977225948672,\n",
       " 'euclidean_distance': 0.8971210922632251,\n",
       " 'manhattan_distance': 2.601384274665579,\n",
       " 'chebyshev_distance': 0.49127916246652603,\n",
       " 'mahalanobis_distance': None}"
      ]
     },
     "execution_count": 89,
     "metadata": {},
     "output_type": "execute_result"
    }
   ],
   "source": [
    "compute_distances(\n",
    "                  np.concatenate(\n",
    "                                  (\n",
    "                                  pca.transform(audio_embed_cayetano.reshape(1, -1)).squeeze(),\n",
    "                                  feats_df[feats_df['song']=='cayetano'].drop(columns=['song', 'mode', 'key']).values.squeeze()\n",
    "                                  )\n",
    "                                )                                \n",
    "                  , \n",
    "                  np.concatenate(\n",
    "                                  (\n",
    "                                  pca.transform(audio_embed_himno.reshape(1, -1)).squeeze(),\n",
    "                                  feats_df[feats_df['song']=='himno'].drop(columns=['song', 'mode', 'key']).values.squeeze()\n",
    "                                  )\n",
    "                                )\n",
    ")\n"
   ]
  },
  {
   "cell_type": "markdown",
   "id": "56c11192-07df-4ffb-bcd5-c2ffd16e4fda",
   "metadata": {},
   "source": [
    "## Got You vs My Heart"
   ]
  },
  {
   "cell_type": "code",
   "execution_count": 58,
   "id": "cc09cb20-0cc2-4cad-a527-bcc465bf2ffd",
   "metadata": {
    "scrolled": true
   },
   "outputs": [
    {
     "data": {
      "text/plain": [
       "{'cosine_distance': 0.22044043419119974,\n",
       " 'euclidean_distance': 0.6639887690544128,\n",
       " 'manhattan_distance': 12.1134405,\n",
       " 'chebyshev_distance': 0.08746224,\n",
       " 'mahalanobis_distance': None}"
      ]
     },
     "execution_count": 58,
     "metadata": {},
     "output_type": "execute_result"
    }
   ],
   "source": [
    "compute_distances(audio_embed_gotyou.squeeze(), audio_embed_my_heart_will_go_on.squeeze())"
   ]
  },
  {
   "cell_type": "code",
   "execution_count": 114,
   "id": "f6a3a6ce-fec7-4717-b384-5ece77d4ee61",
   "metadata": {},
   "outputs": [
    {
     "name": "stderr",
     "output_type": "stream",
     "text": [
      "/Users/jose/.pyenv/versions/3.10.13/lib/python3.10/site-packages/scipy/spatial/distance.py:1035: RuntimeWarning: invalid value encountered in sqrt\n",
      "  return np.sqrt(m)\n"
     ]
    },
    {
     "data": {
      "text/plain": [
       "{'cosine_distance': 0.8542979857661945,\n",
       " 'euclidean_distance': 2.08699431425592,\n",
       " 'manhattan_distance': 5.457557294547486,\n",
       " 'chebyshev_distance': 0.9998436950146627,\n",
       " 'mahalanobis_distance': nan}"
      ]
     },
     "execution_count": 114,
     "metadata": {},
     "output_type": "execute_result"
    }
   ],
   "source": [
    "compute_distances(feats_df[feats_df['song']=='gotyou'].drop(columns=['song', 'mode', 'key']).values.squeeze(), \n",
    "                  feats_df[feats_df['song']=='heart'].drop(columns=['song', 'mode', 'key']).values.squeeze())"
   ]
  },
  {
   "cell_type": "code",
   "execution_count": 90,
   "id": "ff36cef7-5cf1-4e35-bf5b-45ee31f58171",
   "metadata": {},
   "outputs": [
    {
     "data": {
      "text/plain": [
       "{'cosine_distance': 0.840159611422218,\n",
       " 'euclidean_distance': 1.9057262021485988,\n",
       " 'manhattan_distance': 5.952825884147663,\n",
       " 'chebyshev_distance': 0.9974550877721072,\n",
       " 'mahalanobis_distance': 16.131536219658486}"
      ]
     },
     "execution_count": 90,
     "metadata": {},
     "output_type": "execute_result"
    }
   ],
   "source": [
    "compute_distances(\n",
    "                  np.concatenate(\n",
    "                                  (\n",
    "                                  pca.transform(audio_embed_gotyou.reshape(1, -1)).squeeze(),\n",
    "                                  feats_df[feats_df['song']=='gotyou'].drop(columns=['song', 'mode', 'key']).values.squeeze()\n",
    "                                  )\n",
    "                                )                                \n",
    "                  , \n",
    "                  np.concatenate(\n",
    "                                  (\n",
    "                                  pca.transform(audio_embed_my_heart_will_go_on.reshape(1, -1)).squeeze(),\n",
    "                                  feats_df[feats_df['song']=='heart'].drop(columns=['song', 'mode', 'key']).values.squeeze()\n",
    "                                  )\n",
    "                                )\n",
    ")\n"
   ]
  },
  {
   "cell_type": "markdown",
   "id": "955b4436-375b-4538-9bb8-675f2619eee8",
   "metadata": {},
   "source": [
    "## Got You vs Hertz"
   ]
  },
  {
   "cell_type": "code",
   "execution_count": 59,
   "id": "e75c814e-1093-4583-9711-29047a5f308f",
   "metadata": {
    "scrolled": true
   },
   "outputs": [
    {
     "data": {
      "text/plain": [
       "{'cosine_distance': 0.1252791210842641,\n",
       " 'euclidean_distance': 0.5005578398704529,\n",
       " 'manhattan_distance': 9.066539,\n",
       " 'chebyshev_distance': 0.07366593,\n",
       " 'mahalanobis_distance': None}"
      ]
     },
     "execution_count": 59,
     "metadata": {},
     "output_type": "execute_result"
    }
   ],
   "source": [
    "compute_distances(audio_embed_gotyou.squeeze(), audio_embed_hertz.squeeze())"
   ]
  },
  {
   "cell_type": "code",
   "execution_count": 115,
   "id": "28978982-6562-4fa8-8601-5d4fe7118173",
   "metadata": {},
   "outputs": [
    {
     "data": {
      "text/plain": [
       "{'cosine_distance': 0.4115786052340077,\n",
       " 'euclidean_distance': 1.9073972422235734,\n",
       " 'manhattan_distance': 4.494396833342899,\n",
       " 'chebyshev_distance': 1.0,\n",
       " 'mahalanobis_distance': None}"
      ]
     },
     "execution_count": 115,
     "metadata": {},
     "output_type": "execute_result"
    }
   ],
   "source": [
    "compute_distances(feats_df[feats_df['song']=='gotyou'].drop(columns=['song', 'mode', 'key']).values.squeeze(), \n",
    "                  feats_df[feats_df['song']=='hertz'].drop(columns=['song', 'mode', 'key']).values.squeeze())"
   ]
  },
  {
   "cell_type": "code",
   "execution_count": 91,
   "id": "508e746b-5f72-4b1a-b8e4-910dab2b7a70",
   "metadata": {},
   "outputs": [
    {
     "data": {
      "text/plain": [
       "{'cosine_distance': 0.422472640224937,\n",
       " 'euclidean_distance': 1.7118837457680272,\n",
       " 'manhattan_distance': 5.124980962241088,\n",
       " 'chebyshev_distance': 1.0,\n",
       " 'mahalanobis_distance': None}"
      ]
     },
     "execution_count": 91,
     "metadata": {},
     "output_type": "execute_result"
    }
   ],
   "source": [
    "compute_distances(\n",
    "                  np.concatenate(\n",
    "                                  (\n",
    "                                  pca.transform(audio_embed_gotyou.reshape(1, -1)).squeeze(),\n",
    "                                  feats_df[feats_df['song']=='gotyou'].drop(columns=['song', 'mode', 'key']).values.squeeze()\n",
    "                                  )\n",
    "                                )                                \n",
    "                  , \n",
    "                  np.concatenate(\n",
    "                                  (\n",
    "                                  pca.transform(audio_embed_hertz.reshape(1, -1)).squeeze(),\n",
    "                                  feats_df[feats_df['song']=='hertz'].drop(columns=['song', 'mode', 'key']).values.squeeze()\n",
    "                                  )\n",
    "                                )\n",
    ")\n"
   ]
  },
  {
   "cell_type": "markdown",
   "id": "fe16b591-c40f-4212-8ed5-a6eea0ac6d61",
   "metadata": {},
   "source": [
    "## Got You vs Cayetano"
   ]
  },
  {
   "cell_type": "code",
   "execution_count": 60,
   "id": "52d03f01-4780-49c2-b7f9-b8fc9d66afda",
   "metadata": {
    "scrolled": true
   },
   "outputs": [
    {
     "data": {
      "text/plain": [
       "{'cosine_distance': 0.1805654871800818,\n",
       " 'euclidean_distance': 0.6009416580200195,\n",
       " 'manhattan_distance': 10.601484,\n",
       " 'chebyshev_distance': 0.07923092,\n",
       " 'mahalanobis_distance': None}"
      ]
     },
     "execution_count": 60,
     "metadata": {},
     "output_type": "execute_result"
    }
   ],
   "source": [
    "compute_distances(audio_embed_gotyou.squeeze(), audio_embed_cayetano.squeeze())"
   ]
  },
  {
   "cell_type": "code",
   "execution_count": 116,
   "id": "7d909f7a-c19c-4533-8d58-baad3d75fac0",
   "metadata": {},
   "outputs": [
    {
     "name": "stderr",
     "output_type": "stream",
     "text": [
      "/Users/jose/.pyenv/versions/3.10.13/lib/python3.10/site-packages/scipy/spatial/distance.py:1035: RuntimeWarning: invalid value encountered in sqrt\n",
      "  return np.sqrt(m)\n"
     ]
    },
    {
     "data": {
      "text/plain": [
       "{'cosine_distance': 0.2716057525677148,\n",
       " 'euclidean_distance': 1.4899267691341027,\n",
       " 'manhattan_distance': 3.4696783856550395,\n",
       " 'chebyshev_distance': 1.0,\n",
       " 'mahalanobis_distance': nan}"
      ]
     },
     "execution_count": 116,
     "metadata": {},
     "output_type": "execute_result"
    }
   ],
   "source": [
    "compute_distances(feats_df[feats_df['song']=='cayetano'].drop(columns=['song', 'mode', 'key']).values.squeeze(), \n",
    "                  feats_df[feats_df['song']=='gotyou'].drop(columns=['song', 'mode', 'key']).values.squeeze())"
   ]
  },
  {
   "cell_type": "code",
   "execution_count": 92,
   "id": "ee17ea95-59bf-4c38-82a4-f39ae2a5d8d5",
   "metadata": {},
   "outputs": [
    {
     "name": "stderr",
     "output_type": "stream",
     "text": [
      "/Users/jose/.pyenv/versions/3.10.13/lib/python3.10/site-packages/scipy/spatial/distance.py:1035: RuntimeWarning: invalid value encountered in sqrt\n",
      "  return np.sqrt(m)\n"
     ]
    },
    {
     "data": {
      "text/plain": [
       "{'cosine_distance': 0.2160222815520063,\n",
       " 'euclidean_distance': 1.1730321961379908,\n",
       " 'manhattan_distance': 3.84649884041925,\n",
       " 'chebyshev_distance': 0.5627062706270627,\n",
       " 'mahalanobis_distance': nan}"
      ]
     },
     "execution_count": 92,
     "metadata": {},
     "output_type": "execute_result"
    }
   ],
   "source": [
    "compute_distances(\n",
    "                  np.concatenate(\n",
    "                                  (\n",
    "                                  pca.transform(audio_embed_gotyou.reshape(1, -1)).squeeze(),\n",
    "                                  feats_df[feats_df['song']=='gotyou'].drop(columns=['song', 'mode', 'key']).values.squeeze()\n",
    "                                  )\n",
    "                                )                                \n",
    "                  , \n",
    "                  np.concatenate(\n",
    "                                  (\n",
    "                                  pca.transform(audio_embed_cayetano.reshape(1, -1)).squeeze(),\n",
    "                                  feats_df[feats_df['song']=='cayetano'].drop(columns=['song', 'mode', 'key']).values.squeeze()\n",
    "                                  )\n",
    "                                )\n",
    ")\n"
   ]
  },
  {
   "cell_type": "code",
   "execution_count": null,
   "id": "f4419f8d-4101-4b50-a51c-a1a25faaffb7",
   "metadata": {},
   "outputs": [],
   "source": [
    "# TODO: al obtener la cosine distance con features vs pca embedding + features la diferencia de distancias entre ambos approaches es muy similar\n",
    "# se puede seguir adelante sólo con distancias de features para una v1. Además tiene una ventaja muy importante: no se necesitan las samples\n",
    "# que algunas canciones no las tienen. También, ocupan menos espacio en disco."
   ]
  },
  {
   "cell_type": "code",
   "execution_count": null,
   "id": "703199c7-422b-4c62-b8ed-ff4ba28f0854",
   "metadata": {},
   "outputs": [],
   "source": []
  },
  {
   "cell_type": "code",
   "execution_count": null,
   "id": "70f15235-94e2-42e0-9fdd-14c619dc278c",
   "metadata": {},
   "outputs": [],
   "source": []
  },
  {
   "cell_type": "code",
   "execution_count": 103,
   "id": "a5f36c06-00f0-4753-b7bb-83ab096b6473",
   "metadata": {},
   "outputs": [],
   "source": [
    "from sklearn.metrics.pairwise import cosine_similarity\n",
    "\n",
    "def _feature_similarity(songs_feats_df):\n",
    "    songs_feats_df_aux = songs_feats_df.copy().drop(columns=['song', 'mode', 'key', 'TRACK_ID'])\n",
    "    for c in songs_feats_df_aux.columns:\n",
    "        if c != Column.IS_REF_PL:\n",
    "            songs_feats_df_aux[c] = ((songs_feats_df_aux[c] - songs_feats_df_aux[c].min()) \n",
    "                                    /  \n",
    "                                    max(songs_feats_df_aux[c].max() - songs_feats_df_aux[c].min(), 0.00001)\n",
    "                                    )\n",
    "            \n",
    "    ref_songs = songs_feats_df_aux[songs_feats_df_aux['IS_REF_PL'] == 1].drop(columns=['IS_REF_PL'])\n",
    "    non_ref_songs = songs_feats_df_aux[songs_feats_df_aux['IS_REF_PL'] == 0].drop(columns=['IS_REF_PL'])\n",
    "            \n",
    "    cosine_similarity_df = cosine_similarity(ref_songs, non_ref_songs)\n",
    "\n",
    "    return cosine_similarity_df\n"
   ]
  },
  {
   "cell_type": "code",
   "execution_count": 106,
   "id": "25d5c689-0ade-4a47-96b8-684a7431ad8d",
   "metadata": {},
   "outputs": [
    {
     "data": {
      "text/html": [
       "<div>\n",
       "<style scoped>\n",
       "    .dataframe tbody tr th:only-of-type {\n",
       "        vertical-align: middle;\n",
       "    }\n",
       "\n",
       "    .dataframe tbody tr th {\n",
       "        vertical-align: top;\n",
       "    }\n",
       "\n",
       "    .dataframe thead th {\n",
       "        text-align: right;\n",
       "    }\n",
       "</style>\n",
       "<table border=\"1\" class=\"dataframe\">\n",
       "  <thead>\n",
       "    <tr style=\"text-align: right;\">\n",
       "      <th></th>\n",
       "      <th>danceability</th>\n",
       "      <th>energy</th>\n",
       "      <th>key</th>\n",
       "      <th>loudness</th>\n",
       "      <th>mode</th>\n",
       "      <th>speechiness</th>\n",
       "      <th>acousticness</th>\n",
       "      <th>instrumentalness</th>\n",
       "      <th>liveness</th>\n",
       "      <th>valence</th>\n",
       "      <th>tempo</th>\n",
       "      <th>song</th>\n",
       "    </tr>\n",
       "  </thead>\n",
       "  <tbody>\n",
       "    <tr>\n",
       "      <th>0</th>\n",
       "      <td>0.612613</td>\n",
       "      <td>0.990251</td>\n",
       "      <td>0.363636</td>\n",
       "      <td>0.836765</td>\n",
       "      <td>1.0</td>\n",
       "      <td>0.335231</td>\n",
       "      <td>0.027871</td>\n",
       "      <td>0.000000</td>\n",
       "      <td>0.515351</td>\n",
       "      <td>0.684889</td>\n",
       "      <td>0.449389</td>\n",
       "      <td>cayetano</td>\n",
       "    </tr>\n",
       "    <tr>\n",
       "      <th>1</th>\n",
       "      <td>0.201201</td>\n",
       "      <td>0.987465</td>\n",
       "      <td>0.363636</td>\n",
       "      <td>0.787016</td>\n",
       "      <td>1.0</td>\n",
       "      <td>0.256799</td>\n",
       "      <td>0.187270</td>\n",
       "      <td>0.000000</td>\n",
       "      <td>0.576754</td>\n",
       "      <td>0.585820</td>\n",
       "      <td>0.020690</td>\n",
       "      <td>himno</td>\n",
       "    </tr>\n",
       "    <tr>\n",
       "      <th>2</th>\n",
       "      <td>0.000000</td>\n",
       "      <td>0.887187</td>\n",
       "      <td>0.090909</td>\n",
       "      <td>0.896956</td>\n",
       "      <td>0.0</td>\n",
       "      <td>0.487666</td>\n",
       "      <td>0.000821</td>\n",
       "      <td>0.000246</td>\n",
       "      <td>0.171053</td>\n",
       "      <td>0.887801</td>\n",
       "      <td>1.000000</td>\n",
       "      <td>hertz</td>\n",
       "    </tr>\n",
       "    <tr>\n",
       "      <th>3</th>\n",
       "      <td>1.000000</td>\n",
       "      <td>0.668524</td>\n",
       "      <td>0.090909</td>\n",
       "      <td>0.732736</td>\n",
       "      <td>1.0</td>\n",
       "      <td>0.169513</td>\n",
       "      <td>0.002545</td>\n",
       "      <td>0.562706</td>\n",
       "      <td>0.059211</td>\n",
       "      <td>0.706374</td>\n",
       "      <td>0.014822</td>\n",
       "      <td>gotyou</td>\n",
       "    </tr>\n",
       "    <tr>\n",
       "      <th>4</th>\n",
       "      <td>0.297297</td>\n",
       "      <td>0.000000</td>\n",
       "      <td>0.363636</td>\n",
       "      <td>0.000000</td>\n",
       "      <td>1.0</td>\n",
       "      <td>0.027198</td>\n",
       "      <td>1.000000</td>\n",
       "      <td>0.000088</td>\n",
       "      <td>0.000000</td>\n",
       "      <td>0.000000</td>\n",
       "      <td>0.071318</td>\n",
       "      <td>heart</td>\n",
       "    </tr>\n",
       "    <tr>\n",
       "      <th>5</th>\n",
       "      <td>0.216216</td>\n",
       "      <td>0.870474</td>\n",
       "      <td>0.090909</td>\n",
       "      <td>0.661807</td>\n",
       "      <td>0.0</td>\n",
       "      <td>0.089184</td>\n",
       "      <td>0.094777</td>\n",
       "      <td>0.000000</td>\n",
       "      <td>0.923246</td>\n",
       "      <td>0.955837</td>\n",
       "      <td>0.458212</td>\n",
       "      <td>mouth</td>\n",
       "    </tr>\n",
       "    <tr>\n",
       "      <th>6</th>\n",
       "      <td>0.582583</td>\n",
       "      <td>0.686630</td>\n",
       "      <td>0.363636</td>\n",
       "      <td>0.578662</td>\n",
       "      <td>1.0</td>\n",
       "      <td>0.000000</td>\n",
       "      <td>0.053183</td>\n",
       "      <td>0.000000</td>\n",
       "      <td>0.041667</td>\n",
       "      <td>1.000000</td>\n",
       "      <td>0.473024</td>\n",
       "      <td>light</td>\n",
       "    </tr>\n",
       "    <tr>\n",
       "      <th>7</th>\n",
       "      <td>0.078078</td>\n",
       "      <td>1.000000</td>\n",
       "      <td>1.000000</td>\n",
       "      <td>1.000000</td>\n",
       "      <td>0.0</td>\n",
       "      <td>1.000000</td>\n",
       "      <td>0.028965</td>\n",
       "      <td>0.000513</td>\n",
       "      <td>0.442982</td>\n",
       "      <td>0.052877</td>\n",
       "      <td>0.568595</td>\n",
       "      <td>bogus</td>\n",
       "    </tr>\n",
       "    <tr>\n",
       "      <th>8</th>\n",
       "      <td>0.612613</td>\n",
       "      <td>0.793872</td>\n",
       "      <td>0.818182</td>\n",
       "      <td>0.690474</td>\n",
       "      <td>1.0</td>\n",
       "      <td>0.160025</td>\n",
       "      <td>0.008948</td>\n",
       "      <td>0.214521</td>\n",
       "      <td>1.000000</td>\n",
       "      <td>0.812604</td>\n",
       "      <td>0.000000</td>\n",
       "      <td>comon</td>\n",
       "    </tr>\n",
       "    <tr>\n",
       "      <th>9</th>\n",
       "      <td>0.504505</td>\n",
       "      <td>0.615599</td>\n",
       "      <td>0.000000</td>\n",
       "      <td>0.392572</td>\n",
       "      <td>1.0</td>\n",
       "      <td>0.003795</td>\n",
       "      <td>0.000000</td>\n",
       "      <td>1.000000</td>\n",
       "      <td>0.936404</td>\n",
       "      <td>0.899737</td>\n",
       "      <td>0.382048</td>\n",
       "      <td>thunder</td>\n",
       "    </tr>\n",
       "  </tbody>\n",
       "</table>\n",
       "</div>"
      ],
      "text/plain": [
       "   danceability    energy       key  loudness  mode  speechiness  \\\n",
       "0      0.612613  0.990251  0.363636  0.836765   1.0     0.335231   \n",
       "1      0.201201  0.987465  0.363636  0.787016   1.0     0.256799   \n",
       "2      0.000000  0.887187  0.090909  0.896956   0.0     0.487666   \n",
       "3      1.000000  0.668524  0.090909  0.732736   1.0     0.169513   \n",
       "4      0.297297  0.000000  0.363636  0.000000   1.0     0.027198   \n",
       "5      0.216216  0.870474  0.090909  0.661807   0.0     0.089184   \n",
       "6      0.582583  0.686630  0.363636  0.578662   1.0     0.000000   \n",
       "7      0.078078  1.000000  1.000000  1.000000   0.0     1.000000   \n",
       "8      0.612613  0.793872  0.818182  0.690474   1.0     0.160025   \n",
       "9      0.504505  0.615599  0.000000  0.392572   1.0     0.003795   \n",
       "\n",
       "   acousticness  instrumentalness  liveness   valence     tempo      song  \n",
       "0      0.027871          0.000000  0.515351  0.684889  0.449389  cayetano  \n",
       "1      0.187270          0.000000  0.576754  0.585820  0.020690     himno  \n",
       "2      0.000821          0.000246  0.171053  0.887801  1.000000     hertz  \n",
       "3      0.002545          0.562706  0.059211  0.706374  0.014822    gotyou  \n",
       "4      1.000000          0.000088  0.000000  0.000000  0.071318     heart  \n",
       "5      0.094777          0.000000  0.923246  0.955837  0.458212     mouth  \n",
       "6      0.053183          0.000000  0.041667  1.000000  0.473024     light  \n",
       "7      0.028965          0.000513  0.442982  0.052877  0.568595     bogus  \n",
       "8      0.008948          0.214521  1.000000  0.812604  0.000000     comon  \n",
       "9      0.000000          1.000000  0.936404  0.899737  0.382048   thunder  "
      ]
     },
     "execution_count": 106,
     "metadata": {},
     "output_type": "execute_result"
    }
   ],
   "source": [
    "feats_df"
   ]
  },
  {
   "cell_type": "code",
   "execution_count": 105,
   "id": "e8926964-83d5-4c5a-a374-4bd65c3f0a6e",
   "metadata": {},
   "outputs": [
    {
     "ename": "TypeError",
     "evalue": "_feature_similarity() takes 1 positional argument but 2 were given",
     "output_type": "error",
     "traceback": [
      "\u001b[0;31m---------------------------------------------------------------------------\u001b[0m",
      "\u001b[0;31mTypeError\u001b[0m                                 Traceback (most recent call last)",
      "Cell \u001b[0;32mIn[105], line 1\u001b[0m\n\u001b[0;32m----> 1\u001b[0m \u001b[43m_feature_similarity\u001b[49m\u001b[43m(\u001b[49m\u001b[43mfeats_df\u001b[49m\u001b[43m[\u001b[49m\u001b[43mfeats_df\u001b[49m\u001b[43m[\u001b[49m\u001b[38;5;124;43m'\u001b[39;49m\u001b[38;5;124;43msong\u001b[39;49m\u001b[38;5;124;43m'\u001b[39;49m\u001b[43m]\u001b[49m\u001b[38;5;241;43m==\u001b[39;49m\u001b[38;5;124;43m'\u001b[39;49m\u001b[38;5;124;43mcayetano\u001b[39;49m\u001b[38;5;124;43m'\u001b[39;49m\u001b[43m]\u001b[49m\u001b[38;5;241;43m.\u001b[39;49m\u001b[43mdrop\u001b[49m\u001b[43m(\u001b[49m\u001b[43mcolumns\u001b[49m\u001b[38;5;241;43m=\u001b[39;49m\u001b[43m[\u001b[49m\u001b[38;5;124;43m'\u001b[39;49m\u001b[38;5;124;43msong\u001b[39;49m\u001b[38;5;124;43m'\u001b[39;49m\u001b[43m,\u001b[49m\u001b[43m \u001b[49m\u001b[38;5;124;43m'\u001b[39;49m\u001b[38;5;124;43mmode\u001b[39;49m\u001b[38;5;124;43m'\u001b[39;49m\u001b[43m,\u001b[49m\u001b[43m \u001b[49m\u001b[38;5;124;43m'\u001b[39;49m\u001b[38;5;124;43mkey\u001b[39;49m\u001b[38;5;124;43m'\u001b[39;49m\u001b[43m]\u001b[49m\u001b[43m)\u001b[49m\u001b[43m,\u001b[49m\n\u001b[1;32m      2\u001b[0m \u001b[43m                    \u001b[49m\u001b[43mfeats_df\u001b[49m\u001b[43m[\u001b[49m\u001b[43mfeats_df\u001b[49m\u001b[43m[\u001b[49m\u001b[38;5;124;43m'\u001b[39;49m\u001b[38;5;124;43msong\u001b[39;49m\u001b[38;5;124;43m'\u001b[39;49m\u001b[43m]\u001b[49m\u001b[38;5;241;43m==\u001b[39;49m\u001b[38;5;124;43m'\u001b[39;49m\u001b[38;5;124;43mgotyou\u001b[39;49m\u001b[38;5;124;43m'\u001b[39;49m\u001b[43m]\u001b[49m\u001b[38;5;241;43m.\u001b[39;49m\u001b[43mdrop\u001b[49m\u001b[43m(\u001b[49m\u001b[43mcolumns\u001b[49m\u001b[38;5;241;43m=\u001b[39;49m\u001b[43m[\u001b[49m\u001b[38;5;124;43m'\u001b[39;49m\u001b[38;5;124;43msong\u001b[39;49m\u001b[38;5;124;43m'\u001b[39;49m\u001b[43m,\u001b[49m\u001b[43m \u001b[49m\u001b[38;5;124;43m'\u001b[39;49m\u001b[38;5;124;43mmode\u001b[39;49m\u001b[38;5;124;43m'\u001b[39;49m\u001b[43m,\u001b[49m\u001b[43m \u001b[49m\u001b[38;5;124;43m'\u001b[39;49m\u001b[38;5;124;43mkey\u001b[39;49m\u001b[38;5;124;43m'\u001b[39;49m\u001b[43m]\u001b[49m\u001b[43m)\u001b[49m\n\u001b[1;32m      3\u001b[0m \u001b[43m                   \u001b[49m\u001b[43m)\u001b[49m\n",
      "\u001b[0;31mTypeError\u001b[0m: _feature_similarity() takes 1 positional argument but 2 were given"
     ]
    }
   ],
   "source": [
    "feats_df_aux = feats_df.copy()\n",
    "feats_df_aux[] = \n",
    "\n",
    "_feature_similarity(feats_df_aux.drop(columns=['song', 'mode', 'key'])\n",
    "                   )"
   ]
  },
  {
   "cell_type": "markdown",
   "id": "86f7489e-9435-4597-a29a-08e9ffeb77d8",
   "metadata": {},
   "source": [
    "## Idea for now:\n",
    "\n",
    "- Quedarnos con canciones que enganchen con alguna canción referencia por tener distancia de features (cosine) < 0.5\n",
    "- Las que son de bandas que tenemos como referencia o en favoritos (ver yaml), nos las quedamos\n",
    "- Guardar en una tabla con qué canción se está enganchando, las features de una, de otra, y la distancia\n",
    "\n",
    "- Extra: un proceso que haga lo siguiente: por cada canción añadida a playlist curated de la anterior ejecución, mirar si se ha añadido a \n",
    "favoritos. Se va guardando una tabla con todo esto, siendo 1 si añadido a favoritos y 0 en caso contrario. Se hace una tabla con las features,\n",
    "distancia coseno a los top 5 canciones referencia, y si es posible los embeddings, junto con la distancia coseno a los top 5 canciones referencia.\n",
    "\n",
    "La idea es crear un modelo que decida si una canción es de mi agrado o no, con un poco más inteligencia que un filtro simple."
   ]
  }
 ],
 "metadata": {
  "kernelspec": {
   "display_name": "music_curator",
   "language": "python",
   "name": "music_curator"
  },
  "language_info": {
   "codemirror_mode": {
    "name": "ipython",
    "version": 3
   },
   "file_extension": ".py",
   "mimetype": "text/x-python",
   "name": "python",
   "nbconvert_exporter": "python",
   "pygments_lexer": "ipython3",
   "version": "3.10.13"
  }
 },
 "nbformat": 4,
 "nbformat_minor": 5
}
