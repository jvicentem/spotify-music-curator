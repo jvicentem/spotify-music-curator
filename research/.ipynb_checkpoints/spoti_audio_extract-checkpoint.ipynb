{
 "cells": [
  {
   "cell_type": "code",
   "execution_count": null,
   "id": "ef99f981-9e29-4ddb-8aed-e2d9ecd464ea",
   "metadata": {},
   "outputs": [],
   "source": [
    "#!pip3.10 install spotipy"
   ]
  },
  {
   "cell_type": "code",
   "execution_count": 1,
   "id": "82bf7453-3ba8-4231-8b6d-8d468817e59a",
   "metadata": {},
   "outputs": [],
   "source": [
    "import os"
   ]
  },
  {
   "cell_type": "code",
   "execution_count": 2,
   "id": "7f9813da-984c-48da-ac7b-c0ee73ea85da",
   "metadata": {},
   "outputs": [],
   "source": [
    "os.environ['SPOTIPY_CLIENT_ID']='f30051ca497649079b904ef7476af7d2'\n",
    "os.environ['SPOTIPY_CLIENT_SECRET']='57693afba78047d8a1b658bca978f129'\n",
    "os.environ['SPOTIPY_REDIRECT_URI']='https://www.jvm16.xyz/#/english'"
   ]
  },
  {
   "cell_type": "code",
   "execution_count": null,
   "id": "61b224b5-17bc-48e4-956a-0f53d5f99755",
   "metadata": {},
   "outputs": [],
   "source": [
    "import spotipy\n",
    "from spotipy.oauth2 import SpotifyOAuth\n",
    "\n",
    "scope = \"user-library-read\"\n",
    "\n",
    "sp = spotipy.Spotify(auth_manager=SpotifyOAuth(scope=scope))\n",
    "\n",
    "results = sp.current_user_saved_tracks()\n",
    "for idx, item in enumerate(results['items']):\n",
    "    track = item['track']\n",
    "    print(idx, track['artists'][0]['name'], \" – \", track['name'])\n",
    "    break"
   ]
  },
  {
   "cell_type": "code",
   "execution_count": null,
   "id": "72727c98-c3fc-4b75-b263-fcb0f6d390c6",
   "metadata": {},
   "outputs": [],
   "source": []
  },
  {
   "cell_type": "code",
   "execution_count": 4,
   "id": "a109ce99-9760-4f3c-8415-6fdca1375f5e",
   "metadata": {},
   "outputs": [
    {
     "name": "stdout",
     "output_type": "stream",
     "text": [
      "https://p.scdn.co/mp3-preview/68c13229ec9b1b4a5ea580e801061fd7791857c4?cid=f30051ca497649079b904ef7476af7d2\n",
      "https://p.scdn.co/mp3-preview/e98adb2327a0418af7987f0a9db859698628ff8a?cid=f30051ca497649079b904ef7476af7d2\n",
      "https://p.scdn.co/mp3-preview/30ea44c827a600f534a1db2f9b261c22247bd529?cid=f30051ca497649079b904ef7476af7d2\n",
      "https://p.scdn.co/mp3-preview/7db943340e7bcc9fdc175a0582062bdbd1f6ffd3?cid=f30051ca497649079b904ef7476af7d2\n",
      "None\n",
      "https://p.scdn.co/mp3-preview/db431eff82899d9af76c9156d66d29aa951c21d8?cid=f30051ca497649079b904ef7476af7d2\n",
      "https://p.scdn.co/mp3-preview/728607faacad1e4818ef5cef97be7190ca835005?cid=f30051ca497649079b904ef7476af7d2\n",
      "https://p.scdn.co/mp3-preview/f88becea37cb2962f4c14305f40b49cc9a6f3443?cid=f30051ca497649079b904ef7476af7d2\n",
      "https://p.scdn.co/mp3-preview/0ca945232b8b97ffee95077b21b2fd9cc1c793e0?cid=f30051ca497649079b904ef7476af7d2\n",
      "https://p.scdn.co/mp3-preview/ae3804501ea71dc7c22b3b1f6424383a220370f3?cid=f30051ca497649079b904ef7476af7d2\n"
     ]
    }
   ],
   "source": [
    "track = sp.search(\"My Heart Will Go On\", limit=10, offset=0, type='track', market=None)\n",
    "\n",
    "tracks = track['tracks']\n",
    "for item in tracks['items']:\n",
    "    print(item['preview_url'])"
   ]
  },
  {
   "cell_type": "code",
   "execution_count": null,
   "id": "a8fdc280-116f-4433-b4da-f1aaac29f633",
   "metadata": {},
   "outputs": [],
   "source": []
  },
  {
   "cell_type": "code",
   "execution_count": 6,
   "id": "9557e5c6-fff1-4c17-839f-de73df6485c1",
   "metadata": {},
   "outputs": [],
   "source": [
    "import urllib.request"
   ]
  },
  {
   "cell_type": "code",
   "execution_count": 7,
   "id": "39768b99-168d-42d2-af64-4ba3202e25c9",
   "metadata": {},
   "outputs": [
    {
     "data": {
      "text/plain": [
       "('test.mp3', <http.client.HTTPMessage at 0x10352fdc0>)"
      ]
     },
     "execution_count": 7,
     "metadata": {},
     "output_type": "execute_result"
    }
   ],
   "source": [
    "\n",
    "example_url = 'https://p.scdn.co/mp3-preview/ae3804501ea71dc7c22b3b1f6424383a220370f3?cid=f30051ca497649079b904ef7476af7d2'\n",
    "urllib.request.urlretrieve(example_url, 'test.mp3')"
   ]
  }
 ],
 "metadata": {
  "kernelspec": {
   "display_name": "music_curator",
   "language": "python",
   "name": "music_curator"
  },
  "language_info": {
   "codemirror_mode": {
    "name": "ipython",
    "version": 3
   },
   "file_extension": ".py",
   "mimetype": "text/x-python",
   "name": "python",
   "nbconvert_exporter": "python",
   "pygments_lexer": "ipython3",
   "version": "3.10.13"
  }
 },
 "nbformat": 4,
 "nbformat_minor": 5
}
